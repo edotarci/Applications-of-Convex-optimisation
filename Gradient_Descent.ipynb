{
 "cells": [
  {
   "cell_type": "markdown",
   "metadata": {
    "id": "AdegyegtIh9j"
   },
   "source": [
    "# Gradient Descent\n",
    "\n",
    "This notebook is a Python implementation of the Gradient Descent exercise.\n",
    "\n",
    "The goal is to implement the gradient descent algorithm with backtracking line search, described in Section 4 of the script."
   ]
  },
  {
   "cell_type": "code",
   "execution_count": 9,
   "metadata": {
    "id": "O4RdoIenOV-4"
   },
   "outputs": [],
   "source": [
    "import numpy as np  # for number manipulation\n",
    "import matplotlib.pyplot as plt  # for plotting"
   ]
  },
  {
   "cell_type": "markdown",
   "metadata": {},
   "source": [
    "## Test Functions\n",
    "\n",
    "Below we provide several examples of functions that you can use to test your implementations. Note that we leave the implmentation of the corresponding gradient functions to you."
   ]
  },
  {
   "cell_type": "code",
   "execution_count": 10,
   "metadata": {
    "id": "cf77q-ywtgFu"
   },
   "outputs": [],
   "source": [
    "def f_1(x):\n",
    "    return np.square(x[0]) + np.square(x[1])\n",
    "\n",
    "def grad_1(x):\n",
    "    return np.array([2 * x[0], 2 * x[1]])"
   ]
  },
  {
   "cell_type": "code",
   "execution_count": 11,
   "metadata": {
    "id": "seBXjCI8SWTN"
   },
   "outputs": [],
   "source": [
    "def f_2(x):\n",
    "    return np.exp(x[0] + x[1])\n",
    "\n",
    "def grad_2(x):\n",
    "    return np.exp(x[0] + x[1])* np.array([1,1])"
   ]
  },
  {
   "cell_type": "code",
   "execution_count": 50,
   "metadata": {
    "id": "DlbOuHMIkbpC"
   },
   "outputs": [],
   "source": [
    "def f_3(x):\n",
    "    return np.square(x[0]) / x[1] + x[1] \n",
    "\n",
    "def grad_3(x):\n",
    "    x0, x1 = x[0], x[1]\n",
    "    df_dx0 = 2 * x0 / x1\n",
    "    df_dx1 = -x0**2 / x1**2 + 1\n",
    "    return np.array([df_dx0, df_dx1])"
   ]
  },
  {
   "cell_type": "code",
   "execution_count": 13,
   "metadata": {
    "id": "T2TzpX5t0TM-"
   },
   "outputs": [],
   "source": [
    "def f_4(x):\n",
    "    return x[0] * np.sin(np.square(x[0]) + np.square(x[1]))\n",
    "\n",
    "def grad_4(x):\n",
    "    x0, x1 = x[0], x[1]\n",
    "    s = x0**2 + x1**2\n",
    "    df_dx0 = np.sin(s) + 2 * x0**2 * np.cos(s)\n",
    "    df_dx1 = 2 * x0 * x1 * np.cos(s)\n",
    "    return np.array([df_dx0, df_dx1])"
   ]
  },
  {
   "cell_type": "markdown",
   "metadata": {},
   "source": [
    "## Algorithm Implementation\n",
    "\n",
    "Here we implement the gradient descent algorithm with backtracking line search, presented in the script in Algorithms 3 and 4. The interfaces to the functions are described below in the comments."
   ]
  },
  {
   "cell_type": "code",
   "execution_count": 14,
   "metadata": {
    "id": "nDDuf2NMO-mG"
   },
   "outputs": [],
   "source": [
    "def step_size(x, delta_x, f, grad, alpha, beta):\n",
    "    '''Computes the step size for the gradient descent algorithm via backtracking line search.\n",
    "    \n",
    "    Args:\n",
    "        x: The current point.\n",
    "        delta_x: Direction of the gradient descent step.\n",
    "        f: The function being optimized.\n",
    "        grad: The gradient of f.\n",
    "        alpha: Real number between 0 and 0.5.\n",
    "        beta: Real number between 0 and 1.\n",
    "        \n",
    "    Returns:\n",
    "        The step size, i.e., the factor by which to multiply delta_x in the gradient descent step.\n",
    "    '''\n",
    "    t = 1\n",
    "    while f(x+t*delta_x) > f(x) + alpha*t*grad(x)@delta_x:\n",
    "        t = beta*t\n",
    "    \n",
    "    return t"
   ]
  },
  {
   "cell_type": "code",
   "execution_count": 48,
   "metadata": {
    "id": "A14T1WFhNa41"
   },
   "outputs": [],
   "source": [
    "def gradient_descent(f, grad, start, alpha=0.25, beta=0.5, eps=0.001, max_iters=1000):\n",
    "    '''Computes the trajectory of the gradient descent method when minimizing a given function.\n",
    "    \n",
    "    Args:\n",
    "        f: The function to optimize. Assumed to be strongly convex.\n",
    "        grad: The gradient of f.\n",
    "        start: The starting point.\n",
    "        alpha: Real number between 0 and 0.5. (Detault: 0.25.)\n",
    "        beta: Real number between 0 and 1. (Default: 0.5.)\n",
    "        eps: Floating point precision (for comparisons with 0).\n",
    "        max_iters: Maximum number of iterations to perform.\n",
    "        \n",
    "    Returns:\n",
    "        np.array containing coordinates of points visited by the gradient descent method.\n",
    "    '''\n",
    "    # Write your code here\n",
    "    x_curr = np.array(start)\n",
    "    it = 0\n",
    "    x_array = np.array([x_curr])\n",
    "    while np.linalg.norm(grad(x_curr),2) > eps and it<max_iters:\n",
    "        #print(x_array)\n",
    "        delta_x = - grad(x_curr)\n",
    "        t_k = step_size(x_curr, delta_x, f, grad, alpha, beta)\n",
    "        x_curr = x_curr +t_k*delta_x\n",
    "        x_array = np.append(x_array, [x_curr], axis=0)\n",
    "        it += 1\n",
    "    return x_array"
   ]
  },
  {
   "cell_type": "code",
   "execution_count": 30,
   "metadata": {},
   "outputs": [],
   "source": [
    "def plot_trajectory(values, f):\n",
    "    '''Plots the trajectory of the gradient descent method.\n",
    "    \n",
    "    Args:\n",
    "        values: np.array containing coordinates of points.\n",
    "        f: The function that was optimized.\n",
    "    '''\n",
    "    x = np.linspace(np.min(values[:, 0]), np.max(values[:, 0]), 1000)\n",
    "    y = np.linspace(np.min(values[:, 1]), np.max(values[:, 1]), 1000)\n",
    "\n",
    "    X, Y = np.meshgrid(x, y)\n",
    "    Z = f([X, Y])\n",
    "    plt.contourf(X, Y, Z, 50, cmap='Greens')\n",
    "    plt.colorbar()\n",
    "\n",
    "    plt.scatter(values[:, 0],values[:, 1])\n",
    "    plt.plot(values[:, 0],values[:, 1])\n",
    "    plt.show()"
   ]
  },
  {
   "cell_type": "markdown",
   "metadata": {
    "id": "RoOlqBkcQYro"
   },
   "source": [
    "## Testing the Implementation\n",
    "\n",
    "Here you can test your implementation. We encourage you to test different functions, starting points, and values of the parameters alpha and beta."
   ]
  },
  {
   "cell_type": "code",
   "execution_count": 56,
   "metadata": {
    "id": "eVLwe5T9QYTB"
   },
   "outputs": [
    {
     "data": {
      "image/png": "[encoded data removed]",
      "text/plain": [
       "<Figure size 432x288 with 2 Axes>"
      ]
     },
     "metadata": {
      "needs_background": "light"
     },
     "output_type": "display_data"
    }
   ],
   "source": [
    "# Set desired parameter values\n",
    "alpha = 0.25\n",
    "beta = 0.5\n",
    "start = [1, 1]\n",
    "\n",
    "# Run gradient descent algorithm\n",
    "values = gradient_descent(f_4, grad_4, start, alpha, beta)\n",
    "#print(values)\n",
    "\n",
    "# Plot results\n",
    "plot_trajectory(values, f_4)"
   ]
  },
  {
   "cell_type": "code",
   "execution_count": null,
   "metadata": {},
   "outputs": [],
   "source": []
  }
 ],
 "metadata": {
  "colab": {
   "collapsed_sections": [],
   "name": "SolGradientDescent.ipynb",
   "provenance": []
  },
  "kernelspec": {
   "display_name": "Python 3",
   "language": "python",
   "name": "python3"
  },
  "language_info": {
   "codemirror_mode": {
    "name": "ipython",
    "version": 3
   },
   "file_extension": ".py",
   "mimetype": "text/x-python",
   "name": "python",
   "nbconvert_exporter": "python",
   "pygments_lexer": "ipython3",
   "version": "3.10.2"
  },
  "varInspector": {
   "cols": {
    "lenName": 16,
    "lenType": 16,
    "lenVar": 40
   },
   "kernels_config": {
    "python": {
     "delete_cmd_postfix": "",
     "delete_cmd_prefix": "del ",
     "library": "var_list.py",
     "varRefreshCmd": "print(var_dic_list())"
    },
    "r": {
     "delete_cmd_postfix": ") ",
     "delete_cmd_prefix": "rm(",
     "library": "var_list.r",
     "varRefreshCmd": "cat(var_dic_list()) "
    }
   },
   "types_to_exclude": [
    "module",
    "function",
    "builtin_function_or_method",
    "instance",
    "_Feature"
   ],
   "window_display": false
  }
 },
 "nbformat": 4,
 "nbformat_minor": 1
}
