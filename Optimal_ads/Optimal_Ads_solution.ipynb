{
 "cells": [
  {
   "cell_type": "markdown",
   "metadata": {
    "id": "chQwpbmZbFJX"
   },
   "source": [
    "# Optimal Advertising\n",
    "\n",
    "This notebook is a Python implementation of the Optimal Advertising exercise.\n",
    "\n",
    "You can find example instances on the course's Moodle page. (No ads are shown there; we are still working on monetization. :) )"
   ]
  },
  {
   "cell_type": "markdown",
   "metadata": {
    "id": "NLcsnkFZbFJY"
   },
   "source": [
    "## Problem Statement\n",
    "\n",
    "Suppose you own a website where you can display ads. Your site is incredibly successful, so you get a consistent number of users $T_{t}$ visiting your webpage at time $t = 1, 2, \\dots, n$ each day. Because of the success, you signed contracts with $m$ companies, agreeing to show ads of each company $i = 1, 2, \\dots, m$ at least $c_{i}$ times per day. However, you can display at most one ad per each visit of your page.\n",
    "\n",
    "1. Suppose that for every company $i$ and time slot $t$ you know the probability $P_{it}$ of a user visiting your website at time $t$ clicking an ad for company $i$ (i.e., the click rate). Assume that company $i$ pays you $p_{i}$ whenever their ad generates a click. Naturally, you would like to decide so that your ad revenue is maximized. For the sake of simplicity, you may assume that the number of times $D_{it}$ that you show ads for company $i$ in timeslot $t$ does not need to be integral. (If the $T_{t}$ are large (and your website attracts a lot of traffic!), this simplifying assumption will not affect the result significantly.) Model this optimization problem as a linear program and solve it with CVXPY.\n",
    "\n",
    "1. Now suppose that each company $i$ has set a maximum daily advertisement budget $B_{i}$, which caps the amount of money they will pay you each day for displaying their ads. Prove that the corresponding objective function is concave (and thus can be maximized over). Model the modified problem as a convex program and solve it with CVXPY.\n",
    "\n",
    "1. Now suppose that there are no daily revenue caps, but every $D_{it}$ has to be integral. Model the problem as an integer program and solve it with CVXPY. (Note that the resulting formulation is <b>not</b> a convex optimization program.) Use `cp.Variable(dimensions, integer=True)` to create the variables. Observe the differences in how much time it takes to solve each variant of the problem. Do not worry if large instances take too long."
   ]
  },
  {
   "cell_type": "markdown",
   "metadata": {},
   "source": [
    "## Theoretical Solution\n",
    "\n",
    "### LP Model\n",
    "\n",
    "Let $C_{it}$ be the (average) number of clicks ad $i$ receives in time slot $t$. From the problem statement we know that $C_{it} = P_{it} D_{it}$. Since we are paid $p_{i}$ per click for ad $i$, the expected payment from company $i$ is\n",
    "$$\n",
    "    \\mathrm{profit}_{i} = \\sum_{t = 1}^{n} p_{t} C_{it} = \\sum_{t = 1}^{n} p_{t} P_{it} D_{it},\n",
    "$$\n",
    "which is an affine function with respect to $D$. Thus, the total expected profit is\n",
    "$$\n",
    "    \\mathrm{profit}\n",
    "        = \\sum_{i = 1}^{m} \\mathrm{profit}_{i}\n",
    "        = \\sum_{i = 1}^{m} \\sum_{t = 1}^{n} p_{t} C_{it}\n",
    "        = \\sum_{i = 1}^{m} \\sum_{t = 1}^{n} p_{t} P_{it} D_{it}.\n",
    "$$\n",
    "Thus, we can model our optimization problem as the following LP:\n",
    "\\begin{align*}\n",
    "    \\max~        & \\sum_{i = 1}^{m} \\sum_{t = 1}^{n} p_{t} P_{it} D_{it} \\\\\n",
    "    \\text{s.t. } & \\sum_{i = 1}^{m} D_{i, t} \\leq T_{t} & \\forall t \\in \\{1, \\dots, n\\} \\\\\n",
    "                 & \\sum_{t = 1}^{n} D_{i, t} \\geq c_{i} & \\forall i \\in \\{1, \\dots, m\\} \\\\\n",
    "                 & D \\geq 0\n",
    "\\end{align*}\n",
    "Here the objective function maximizes the ad revenue, the first set of constraints ensures that at most one ad is shown per visitor, and the second set of constraints enforces the ad quotas from all the companies. Note that the optimization variable is $D \\in \\mathbb{R}^{m \\times n}$, while $T \\in \\mathbb{R}^{n}$, $c \\in \\mathbb{R}^{m}$, $p \\in \\mathbb{R}^{m}$, and $P \\in \\mathbb{R}^{m \\times n}$ are constants from the problem statement.\n",
    "\n",
    "\n",
    "### Capped Payments\n",
    "\n",
    "To take into account the budget caps, the expression for the expected payment from company $i$ should be replaced by\n",
    "$$\n",
    "    \\mathrm{profit}_{i} = \\min\\left\\{\\sum_{t = 1}^{n} p_{t} P_{it} D_{it}, B_{i}\\right\\}.\n",
    "$$\n",
    "Note that the arguments of the minimum are an affine and a constant function of $D$, respectively. Thus, $\\mathrm{profit}_{i}$ is a concave function of $D$ (as a minimum of concave functions) and hence the total expected payment is concave (as a sum of concave function). Therefore, the updated model is a convex program (more precisely, a concave minimization problem).\n",
    "\n",
    "\n",
    "### Integrality Constraints\n",
    "\n",
    "In this case, restricting the variables from the original model to be integral does the trick."
   ]
  },
  {
   "cell_type": "markdown",
   "metadata": {
    "id": "0GvxfGf8bFJb"
   },
   "source": [
    "## Implementation\n",
    "\n",
    "First let us import all the packages we will use later."
   ]
  },
  {
   "cell_type": "code",
   "execution_count": 1,
   "metadata": {},
   "outputs": [],
   "source": [
    "import numpy as np  # for number manipulation\n",
    "import matplotlib.pyplot as plt  # for plotting\n",
    "import cvxpy as cp  # for optimization"
   ]
  },
  {
   "cell_type": "markdown",
   "metadata": {},
   "source": [
    "### Importing Example Instances\n",
    "\n",
    "Next let us implement a function that parses the input file. The format of the input file is as follows.\n",
    "\n",
    "* The first line contains the number of companies and the number of time slots.\n",
    "* The second line contains the number of visitors in each time slot.\n",
    "* The thrid line lists the minimum ad quotas from each company.\n",
    "* The fourth line shows how much each company pays per click of their ad.\n",
    "* The fifth line contains daily budget caps for each company (from the second subproblem).\n",
    "* The remaining lines list the click probabilities of ads of each company in each time slot (with each line representing one company)."
   ]
  },
  {
   "cell_type": "code",
   "execution_count": 2,
   "metadata": {},
   "outputs": [],
   "source": [
    "# Converts string into list of floats\n",
    "def to_float_list(string):\n",
    "    return [float(word) for word in string.strip().split(' ')]\n",
    "\n",
    "\n",
    "# Parses data file and returns lists containing instance data\n",
    "def parse_file(filename):\n",
    "    with open(filename) as f:\n",
    "        dims = to_float_list(f.readline())\n",
    "        m, n = int(dims[0]), int(dims[1])\n",
    "        traffic = to_float_list(f.readline())\n",
    "        minimum_times_shown = to_float_list(f.readline())\n",
    "        payment_per_click = to_float_list(f.readline())\n",
    "        max_payment = to_float_list(f.readline())\n",
    "        click_probabilities = [to_float_list(line) for line in f]\n",
    "    return m, n, traffic, minimum_times_shown, payment_per_click, max_payment, click_probabilities"
   ]
  },
  {
   "cell_type": "code",
   "execution_count": 3,
   "metadata": {},
   "outputs": [],
   "source": [
    "# Import problem instance from file\n",
    "m, n, traffic, minimum_times_shown, payment_per_click, max_payment, click_probabilities = \\\n",
    "    parse_file('Optimal_Ads_4.txt')  # filename can be between 'Optimal_Ads_1.txt' and 'Optimal_Ads_4.txt'"
   ]
  },
  {
   "cell_type": "markdown",
   "metadata": {
    "id": "KxCCu4X2_Rk1"
   },
   "source": [
    "### LP Formulation\n",
    "\n",
    "Now we can create and solve our LP model. Note that the `@` symbol represents matrix multiplication and that vector inequalities are evaluated component-wise."
   ]
  },
  {
   "cell_type": "code",
   "execution_count": 4,
   "metadata": {
    "colab": {
     "base_uri": "https://localhost:8080/"
    },
    "id": "mF_8XqonRu7y",
    "outputId": "a65a88fa-986e-428e-a3f7-10cb5b9f547f"
   },
   "outputs": [
    {
     "name": "stdout",
     "output_type": "stream",
     "text": [
      "Total income: 4309982.721508262\n",
      "Assignment for each company: [ 176000.  131000.   32000.   14000.   29000.   10000.   25000.   53000.\n",
      "  168000.  132000.    3000.   17000. 1027872.  134000.   48000.]\n"
     ]
    },
    {
     "name": "stderr",
     "output_type": "stream",
     "text": [
      "C:\\bin\\Python311\\Lib\\site-packages\\cvxpy\\problems\\problem.py:1385: UserWarning: Solution may be inaccurate. Try another solver, adjusting the solver settings, or solve with verbose=True for more information.\n",
      "  warnings.warn(\n"
     ]
    }
   ],
   "source": [
    "# Create and solve model\n",
    "payment_per_click = np.asarray(payment_per_click)\n",
    "click_probabilities = np.asarray(click_probabilities)\n",
    "\n",
    "D = cp.Variable((m, n))\n",
    "payments = [payment_per_click[i] * click_probabilities[i, :] @ D[i, :].T for i in range(m)]\n",
    "prob = cp.Problem(\n",
    "    cp.Maximize(cp.sum(payments)),\n",
    "    [D.T @ np.ones(m) <= traffic, D @ np.ones(n) >= minimum_times_shown, D >= 0]\n",
    ")\n",
    "prob.solve()\n",
    "\n",
    "# Print optimal solution\n",
    "print(f'Total income: {prob.value}\\n' +\n",
    "      f'Assignment for each company: {cp.sum(D, axis=1).value}')"
   ]
  },
  {
   "cell_type": "markdown",
   "metadata": {
    "id": "mubFRwML_qQA"
   },
   "source": [
    "### Capped Payments\n",
    "\n",
    "Next, to take into account the ad budget caps, we simply modify the objective function as described in the theoretical solution. Note that the solver is able to handle the resulting model, since it is a concave maximization problem."
   ]
  },
  {
   "cell_type": "code",
   "execution_count": 5,
   "metadata": {
    "colab": {
     "base_uri": "https://localhost:8080/"
    },
    "id": "evABJNoUMgjS",
    "outputId": "e196ef0a-5116-4951-b660-bb9c6af8fd3c"
   },
   "outputs": [
    {
     "name": "stdout",
     "output_type": "stream",
     "text": [
      "Total income: 184053.418904918\n",
      "Assignment for each company: [176000.   131000.    32000.   206889.29 306039.66  12059.59  25000.\n",
      "  53000.   168000.   132000.    35621.75  17000.   228000.   134051.92\n",
      " 343209.79]\n"
     ]
    }
   ],
   "source": [
    "# Create and solve model\n",
    "D_cap = cp.Variable((m, n))\n",
    "capped_payments = [cp.minimum(payment_per_click[i] * click_probabilities[i, :] @ D_cap[i, :].T,\n",
    "                              max_payment[i]) for i in range(m)]\n",
    "prob_cap = cp.Problem(\n",
    "    cp.Maximize(cp.sum(capped_payments)),\n",
    "    [D_cap.T @ np.ones(m) <= traffic, D_cap @ np.ones(n) >= minimum_times_shown, D_cap >= 0]\n",
    ")\n",
    "prob_cap.solve()\n",
    "\n",
    "# Print optimal solution\n",
    "print(f'Total income: {prob_cap.value}\\n' +\n",
    "      f'Assignment for each company: {cp.sum(D_cap, axis=1).value.round(decimals=2)}')"
   ]
  },
  {
   "cell_type": "markdown",
   "metadata": {
    "id": "2D68EGGCBTw9"
   },
   "source": [
    "### Comparison of Uncapped and Capped Variants\n",
    "\n",
    "Below we compare the uncapped and capped variants of the problem by plotting the distribution of the ads shown for each company.\n",
    "\n",
    "Observe that with no budget caps, almost all visitors get ads of just one company, namely the one with the highest expected payment per click. Thus, in this setting the best strategy is to satisfy the minimum quota for all companies and allot the remaining capacity to the company that pays the most, which is intuitively a good strategy. In contrast, if budget caps are introduced, the diversity of companies for which we display ads becomes larger. This makes sense, as we can no longer show ads for the highest-paying company indefinitely."
   ]
  },
  {
   "cell_type": "code",
   "execution_count": 6,
   "metadata": {
    "colab": {
     "base_uri": "https://localhost:8080/",
     "height": 350
    },
    "id": "8Gqd7-98Cu4a",
    "outputId": "f22488eb-4642-4e76-a88b-2a1262dd980d"
   },
   "outputs": [
    {
     "data": {
      "image/png": "[encoded data removed]",
      "text/plain": [
       "<Figure size 1500x500 with 2 Axes>"
      ]
     },
     "metadata": {},
     "output_type": "display_data"
    }
   ],
   "source": [
    "# Create two subplots side-by-side\n",
    "fig, ax = plt.subplots(1, 2, figsize=(15, 5))\n",
    "\n",
    "# Plot heat map for uncapped problem\n",
    "ax[0].pcolor(D.value, cmap=plt.cm.Blues)\n",
    "ax[0].set_title('Uncapped')\n",
    "ax[0].set_ylabel('Companies')\n",
    "ax[0].set_xlabel('Time Slots')\n",
    "\n",
    "# Plot heat map for capped problem\n",
    "ax[1].pcolor(D_cap.value, cmap=plt.cm.Blues)\n",
    "ax[1].set_title('Capped')\n",
    "ax[1].set_ylabel('Companies')\n",
    "ax[1].set_xlabel('Time Slots')\n",
    "\n",
    "# Display complete plot\n",
    "plt.show()"
   ]
  },
  {
   "cell_type": "markdown",
   "metadata": {
    "id": "YohBa4slA-s-"
   },
   "source": [
    "### Integrality Constraints\n",
    "\n",
    "Adding integrality constraints to our model can be done simply by specifying the option `integer=True` when creating the variables that need to be integral."
   ]
  },
  {
   "cell_type": "code",
   "execution_count": 7,
   "metadata": {
    "colab": {
     "base_uri": "https://localhost:8080/"
    },
    "id": "jJW0NAJebFJb",
    "outputId": "5bebeca1-71c2-4e62-f30c-2a06a3b77feb"
   },
   "outputs": [
    {
     "name": "stdout",
     "output_type": "stream",
     "text": [
      "Total income: 4309983.054456311\n",
      "Assignment for each company: [ 176000.  131000.   32000.   14000.   29000.   10000.   25000.   53000.\n",
      "  168000.  132000.    3000.   17000. 1027872.  134000.   48000.]\n"
     ]
    }
   ],
   "source": [
    "# Create and solve model\n",
    "D_int = cp.Variable((m, n), integer=True)\n",
    "payments_int = [payment_per_click[i] * click_probabilities[i, :] @ D_int[i, :].T for i in range(m)]\n",
    "prob_int = cp.Problem(\n",
    "    cp.Maximize(cp.sum(payments_int)),\n",
    "    [D_int.T @ np.ones(m) <= traffic, D_int @ np.ones(n) >= minimum_times_shown, D_int >= 0]\n",
    ")\n",
    "prob_int.solve()\n",
    "\n",
    "# Print optimal solution\n",
    "print(f'Total income: {prob_int.value}\\n' +\n",
    "      f'Assignment for each company: {cp.sum(D_int, axis=1).value.round(decimals=2)}')"
   ]
  },
  {
   "cell_type": "code",
   "execution_count": null,
   "metadata": {},
   "outputs": [],
   "source": []
  }
 ],
 "metadata": {
  "colab": {
   "name": "Sol_optimal_ad.ipynb",
   "provenance": []
  },
  "kernelspec": {
   "display_name": "Python 3 (ipykernel)",
   "language": "python",
   "name": "python3"
  },
  "language_info": {
   "codemirror_mode": {
    "name": "ipython",
    "version": 3
   },
   "file_extension": ".py",
   "mimetype": "text/x-python",
   "name": "python",
   "nbconvert_exporter": "python",
   "pygments_lexer": "ipython3",
   "version": "3.11.3"
  },
  "varInspector": {
   "cols": {
    "lenName": 16,
    "lenType": 16,
    "lenVar": 40
   },
   "kernels_config": {
    "python": {
     "delete_cmd_postfix": "",
     "delete_cmd_prefix": "del ",
     "library": "var_list.py",
     "varRefreshCmd": "print(var_dic_list())"
    },
    "r": {
     "delete_cmd_postfix": ") ",
     "delete_cmd_prefix": "rm(",
     "library": "var_list.r",
     "varRefreshCmd": "cat(var_dic_list()) "
    }
   },
   "types_to_exclude": [
    "module",
    "function",
    "builtin_function_or_method",
    "instance",
    "_Feature"
   ],
   "window_display": false
  }
 },
 "nbformat": 4,
 "nbformat_minor": 1
}
