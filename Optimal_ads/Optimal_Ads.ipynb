{
 "cells": [
  {
   "cell_type": "markdown",
   "metadata": {
    "id": "chQwpbmZbFJX"
   },
   "source": [
    "# Optimal Advertising\n",
    "\n",
    "This notebook is a Python implementation of the Optimal Advertising exercise.\n",
    "\n",
    "You can find example instances on the course's Moodle page. (No ads are shown there; we are still working on monetization. :) )"
   ]
  },
  {
   "cell_type": "markdown",
   "metadata": {
    "id": "NLcsnkFZbFJY"
   },
   "source": [
    "## Problem Statement\n",
    "\n",
    "Suppose you own a website where you can display ads. Your site is incredibly successful, so you get a consistent number of users $T_{t}$ visiting your webpage at time $t = 1, 2, \\dots, n$ each day. Because of the success, you signed contracts with $m$ companies, agreeing to show ads of each company $i = 1, 2, \\dots, m$ at least $c_{i}$ times per day. However, you can display at most one ad per each visit of your page.\n",
    "\n",
    "1. Suppose that for every company $i$ and time slot $t$ you know the probability $P_{it}$ of a user visiting your website at time $t$ clicking an ad for company $i$ (i.e., the click rate). Assume that company $i$ pays you $p_{i}$ whenever their ad generates a click. Naturally, you would like to decide so that your ad revenue is maximized. For the sake of simplicity, you may assume that the number of times $D_{it}$ that you show ads for company $i$ in timeslot $t$ does not need to be integral. (If the $T_{t}$ are large (and your website attracts a lot of traffic!), this simplifying assumption will not affect the result significantly.) Model this optimization problem as a linear program and solve it with CVXPY.\n",
    "\n",
    "1. Now suppose that each company $i$ has set a maximum daily advertisement budget $B_{i}$, which caps the amount of money they will pay you each day for displaying their ads. Prove that the corresponding objective function is concave (and thus can be maximized over). Model the modified problem as a convex program and solve it with CVXPY.\n",
    "\n",
    "1. Now suppose that there are no daily revenue caps, but every $D_{it}$ has to be integral. Model the problem as an integer program and solve it with CVXPY. (Note that the resulting formulation is <b>not</b> a convex optimization program.) Use `cp.Variable(dimensions, integer=True)` to create the variables. Observe the differences in how much time it takes to solve each variant of the problem. Do not worry if large instances take too long."
   ]
  },
  {
   "cell_type": "markdown",
   "metadata": {
    "id": "0GvxfGf8bFJb"
   },
   "source": [
    "## Implementation\n",
    "\n",
    "First let us import all the packages we will use later."
   ]
  },
  {
   "cell_type": "code",
   "execution_count": 4,
   "metadata": {},
   "outputs": [],
   "source": [
    "import numpy as np  # for number manipulation\n",
    "import matplotlib.pyplot as plt  # for plotting\n",
    "import cvxpy as cp  # for optimization"
   ]
  },
  {
   "cell_type": "markdown",
   "metadata": {},
   "source": [
    "### Importing Example Instances\n",
    "\n",
    "Next let us implement a function that parses the input file. The format of the input file is as follows.\n",
    "\n",
    "* The first line contains the number of companies and the number of time slots.\n",
    "* The second line contains the number of visitors in each time slot.\n",
    "* The thrid line lists the minimum ad quotas from each company.\n",
    "* The fourth line shows how much each company pays per click of their ad.\n",
    "* The fifth line contains daily budget caps for each company (from the second subproblem).\n",
    "* The remaining lines list the click probabilities of ads of each company in each time slot (with each line representing one company)."
   ]
  },
  {
   "cell_type": "code",
   "execution_count": 5,
   "metadata": {},
   "outputs": [],
   "source": [
    "# Converts string into list of floats\n",
    "def to_float_list(string):\n",
    "    return [float(word) for word in string.strip().split(' ')]\n",
    "\n",
    "\n",
    "# Parses data file and returns lists containing instance data\n",
    "def parse_file(filename):\n",
    "    with open(filename) as f:\n",
    "        dims = to_float_list(f.readline())\n",
    "        m, n = int(dims[0]), int(dims[1])\n",
    "        traffic = to_float_list(f.readline())\n",
    "        minimum_times_shown = to_float_list(f.readline())\n",
    "        payment_per_click = to_float_list(f.readline())\n",
    "        max_payment = to_float_list(f.readline())\n",
    "        click_probabilities = [to_float_list(line) for line in f]\n",
    "    return m, n, traffic, minimum_times_shown, payment_per_click, max_payment, click_probabilities"
   ]
  },
  {
   "cell_type": "code",
   "execution_count": 6,
   "metadata": {},
   "outputs": [
    {
     "name": "stdout",
     "output_type": "stream",
     "text": [
      "companies 15\n",
      "timeslots 100\n"
     ]
    }
   ],
   "source": [
    "# Import problem instance from file\n",
    "m, n, traffic, minimum_times_shown, payment_per_click, max_payment, click_probabilities = \\\n",
    "    parse_file('Optimal_Ads_4.txt')  # filename can be between 'Optimal_Ads_1.txt' and 'Optimal_Ads_4.txt'\n",
    "print(\"companies\", m)\n",
    "print(\"timeslots\", n) "
   ]
  },
  {
   "cell_type": "markdown",
   "metadata": {
    "id": "KxCCu4X2_Rk1"
   },
   "source": [
    "### LP Formulation\n",
    "\n",
    "Now we can create and solve our LP model. Note that the `@` symbol represents matrix multiplication and that vector inequalities are evaluated component-wise."
   ]
  },
  {
   "cell_type": "code",
   "execution_count": 7,
   "metadata": {
    "colab": {
     "base_uri": "https://localhost:8080/"
    },
    "id": "mF_8XqonRu7y",
    "outputId": "a65a88fa-986e-428e-a3f7-10cb5b9f547f"
   },
   "outputs": [
    {
     "name": "stdout",
     "output_type": "stream",
     "text": [
      "Total income: 4309982.731682228\n",
      "Assignment for each company: []\n"
     ]
    }
   ],
   "source": [
    "# Create and solve model\n",
    "D = cp.Variable((m,n))\n",
    "P = click_probabilities\n",
    "p = payment_per_click\n",
    "money_it = np.array([np.array(P[i])*np.array(p[i]) for i in range(m)])\n",
    "\n",
    "objective = cp.Maximize(cp.sum(cp.multiply(D,money_it)))\n",
    "constraints = [np.ones((1,m))@D<=traffic,\n",
    "               D@np.ones((n,1))>=minimum_times_shown,\n",
    "               D >= 0]\n",
    "\n",
    "prob = cp.Problem(objective, constraints)\n",
    "prob.solve()\n",
    "\n",
    "# Print optimal solution\n",
    "print(f'Total income: {prob.value}\\n' +\n",
    "      f'Assignment for each company: {[]}')"
   ]
  },
  {
   "cell_type": "markdown",
   "metadata": {
    "id": "mubFRwML_qQA"
   },
   "source": [
    "### Capped Payments\n",
    "\n",
    "Next, to take into account the ad budget caps, we simply modify the objective function as described in the theoretical solution. Note that the solver is able to handle the resulting model, since it is a concave maximization problem."
   ]
  },
  {
   "cell_type": "markdown",
   "metadata": {},
   "source": []
  },
  {
   "cell_type": "code",
   "execution_count": 8,
   "metadata": {
    "colab": {
     "base_uri": "https://localhost:8080/"
    },
    "id": "evABJNoUMgjS",
    "outputId": "e196ef0a-5116-4951-b660-bb9c6af8fd3c"
   },
   "outputs": [
    {
     "name": "stdout",
     "output_type": "stream",
     "text": [
      "Total income: 184053.41834924516\n",
      "Assignment for each company: []\n"
     ]
    }
   ],
   "source": [
    "# Create and solve model\n",
    "D_cap = cp.Variable((m,n))\n",
    "\n",
    "P = click_probabilities\n",
    "p = payment_per_click\n",
    "money_it = np.array([np.array(P[i])*np.array(p[i]) for i in range(m)])\n",
    "max_payment = np.array(max_payment).reshape(m, 1)\n",
    "\n",
    "capped_money = cp.multiply(D_cap,money_it)@np.ones((n,1))\n",
    "\n",
    "constraints_cap = [np.ones((1,m))@D_cap<=traffic,\n",
    "               D_cap@np.ones((n,1))>=minimum_times_shown,\n",
    "               D_cap >= 0]\n",
    "\n",
    "prob_cap = cp.Problem(cp.Maximize(np.ones((1,m))@(cp.minimum(capped_money,max_payment))), constraints_cap)\n",
    "prob_cap.solve()\n",
    "\n",
    "# Print optimal solution\n",
    "print(f'Total income: {prob_cap.value}\\n' +\n",
    "      f'Assignment for each company: {[]}')"
   ]
  },
  {
   "cell_type": "markdown",
   "metadata": {
    "id": "2D68EGGCBTw9"
   },
   "source": [
    "### Comparison of Uncapped and Capped Variants\n",
    "\n",
    "Below we compare the uncapped and capped variants of the problem by plotting the distribution of the ads shown for each company.\n",
    "\n",
    "Observe that with no budget caps, almost all visitors get ads of just one company, namely the one with the highest expected payment per click. Thus, in this setting the best strategy is to satisfy the minimum quota for all companies and allot the remaining capacity to the company that pays the most, which is intuitively a good strategy. In contrast, if budget caps are introduced, the diversity of companies for which we display ads becomes larger. This makes sense, as we can no longer show ads for the highest-paying company indefinitely."
   ]
  },
  {
   "cell_type": "code",
   "execution_count": 9,
   "metadata": {
    "colab": {
     "base_uri": "https://localhost:8080/",
     "height": 350
    },
    "id": "8Gqd7-98Cu4a",
    "outputId": "f22488eb-4642-4e76-a88b-2a1262dd980d"
   },
   "outputs": [
    {
     "data": {
      "image/png": "[encoded data removed]",
      "text/plain": [
       "<Figure size 1500x500 with 2 Axes>"
      ]
     },
     "metadata": {},
     "output_type": "display_data"
    }
   ],
   "source": [
    "# Create two subplots side-by-side\n",
    "fig, ax = plt.subplots(1, 2, figsize=(15, 5))\n",
    "\n",
    "# Plot heat map for uncapped problem\n",
    "ax[0].pcolor(D.value, cmap=plt.cm.Blues)\n",
    "ax[0].set_title('Uncapped')\n",
    "ax[0].set_ylabel('Companies')\n",
    "ax[0].set_xlabel('Time Slots')\n",
    "\n",
    "# Plot heat map for capped problem\n",
    "ax[1].pcolor(D_cap.value, cmap=plt.cm.Blues)\n",
    "ax[1].set_title('Capped')\n",
    "ax[1].set_ylabel('Companies')\n",
    "ax[1].set_xlabel('Time Slots')\n",
    "\n",
    "# Display complete plot\n",
    "plt.show()"
   ]
  },
  {
   "cell_type": "markdown",
   "metadata": {
    "id": "YohBa4slA-s-"
   },
   "source": [
    "### Integrality Constraints\n",
    "\n",
    "Adding integrality constraints to our model can be done simply by specifying the option `integer=True` when creating the variables that need to be integral."
   ]
  },
  {
   "cell_type": "code",
   "execution_count": 10,
   "metadata": {
    "colab": {
     "base_uri": "https://localhost:8080/"
    },
    "id": "jJW0NAJebFJb",
    "outputId": "5bebeca1-71c2-4e62-f30c-2a06a3b77feb"
   },
   "outputs": [
    {
     "name": "stdout",
     "output_type": "stream",
     "text": [
      "Total income: 4309983.054456311\n",
      "Assignment for each company: []\n"
     ]
    }
   ],
   "source": [
    "# Create and solve model\n",
    "# Create and solve model\n",
    "D_int = cp.Variable((m,n), integer=True)\n",
    "P = click_probabilities\n",
    "p = payment_per_click\n",
    "money_it = np.array([np.array(P[i])*np.array(p[i]) for i in range(m)])\n",
    "\n",
    "objective_int = cp.Maximize(cp.sum(cp.multiply(D_int,money_it)))\n",
    "constraints_int = [np.ones((1,m))@D_int<=traffic,\n",
    "               D_int@np.ones((n,1))>=minimum_times_shown,\n",
    "               D_int >= 0]\n",
    "prob_int = cp.Problem(objective_int, constraints_int)\n",
    "prob_int.solve(solver=cp.GLPK_MI)\n",
    "\n",
    "# Print optimal solution\n",
    "print(f'Total income: {prob_int.value}\\n' +\n",
    "      f'Assignment for each company: {[]}')"
   ]
  },
  {
   "cell_type": "code",
   "execution_count": 11,
   "metadata": {},
   "outputs": [
    {
     "name": "stdout",
     "output_type": "stream",
     "text": [
      "['CLARABEL', 'CVXOPT', 'GLPK', 'GLPK_MI', 'OSQP', 'SCIPY', 'SCS']\n"
     ]
    }
   ],
   "source": [
    "print(cp.installed_solvers())"
   ]
  }
 ],
 "metadata": {
  "colab": {
   "name": "Sol_optimal_ad.ipynb",
   "provenance": []
  },
  "kernelspec": {
   "display_name": "Python 3",
   "language": "python",
   "name": "python3"
  },
  "language_info": {
   "codemirror_mode": {
    "name": "ipython",
    "version": 3
   },
   "file_extension": ".py",
   "mimetype": "text/x-python",
   "name": "python",
   "nbconvert_exporter": "python",
   "pygments_lexer": "ipython3",
   "version": "3.12.6"
  },
  "varInspector": {
   "cols": {
    "lenName": 16,
    "lenType": 16,
    "lenVar": 40
   },
   "kernels_config": {
    "python": {
     "delete_cmd_postfix": "",
     "delete_cmd_prefix": "del ",
     "library": "var_list.py",
     "varRefreshCmd": "print(var_dic_list())"
    },
    "r": {
     "delete_cmd_postfix": ") ",
     "delete_cmd_prefix": "rm(",
     "library": "var_list.r",
     "varRefreshCmd": "cat(var_dic_list()) "
    }
   },
   "types_to_exclude": [
    "module",
    "function",
    "builtin_function_or_method",
    "instance",
    "_Feature"
   ],
   "window_display": false
  }
 },
 "nbformat": 4,
 "nbformat_minor": 1
}
