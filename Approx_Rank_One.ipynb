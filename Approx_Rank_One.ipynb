{
 "cells": [
  {
   "cell_type": "markdown",
   "metadata": {
    "id": "l7t7jwLv_M2Y"
   },
   "source": [
    "# Approximation with a Rank-One Matrix\n",
    "\n",
    "Suppose we are given matrix $A \\in \\mathbb{R}_{\\geq 0}^{n \\times m}$ and we want to approximate it as closely as possible by a rank-one matrix $B = x y^{\\top}$ (where $x \\in \\mathbb{R}^{n}$ and $y \\in \\mathbb{R}^{m}$). The goal is to minimize the following metric:\n",
    "$$\n",
    "    \\rho(A, B) = \\sum_{i = 1}^{m} \\sum_{j = 1}^{n} R(A_{ij}, B_{ij})\n",
    "$$\n",
    "where $R(a_{ij}, b_{ij}) = \\max \\lbrace A_{ij} / B_{ij}, B_{ij} / A_{ij} \\rbrace - 1$ is the relative deviation of the corresponding matrix entry.\n",
    "\n",
    "Formulate this optimization problem as a convex program (namely, a geometric program) and solve it using CVXPY.\n",
    "\n",
    "First let us import all the packages we will use later."
   ]
  },
  {
   "cell_type": "code",
   "execution_count": 9,
   "metadata": {
    "id": "wC3QTFws-uRE"
   },
   "outputs": [],
   "source": [
    "import numpy as np  # for number manipulation\n",
    "import matplotlib.pyplot as plt  # for plotting\n",
    "import cvxpy as cp  # for optimization"
   ]
  },
  {
   "cell_type": "markdown",
   "metadata": {
    "id": "s_Ksy1Lq1A8R"
   },
   "source": [
    "Next we randomly generate the matrix we want to approximate. "
   ]
  },
  {
   "cell_type": "code",
   "execution_count": 10,
   "metadata": {
    "id": "RlQfNbJ_1LiO"
   },
   "outputs": [
    {
     "name": "stdout",
     "output_type": "stream",
     "text": [
      "Matrix:\n",
      "[[0.80500292 0.80794079 0.51532556 0.28580138 0.0539307 ]\n",
      " [0.38336888 0.40847321 0.04527519 0.04875771 0.99917612]\n",
      " [0.65236911 0.2345102  0.43494755 0.97418619 0.89767761]\n",
      " [0.84423104 0.39240466 0.49302302 0.67668935 0.06080271]]\n"
     ]
    }
   ],
   "source": [
    "rng = np.random.default_rng(seed=5)  # change the random seed to get different matrices\n",
    "n, m = 4, 5\n",
    "A = rng.random((n, m))\n",
    "print(f'Matrix:\\n{A}')"
   ]
  },
  {
   "cell_type": "markdown",
   "metadata": {
    "id": "QXfL_6s-Ajyk"
   },
   "source": [
    "Now we are ready to define and solve the CVXPY problem. Since we are dealing with a geometric program, we have to call `problem.solve(gp=True)` instead of just `problem.solve()` to solve it. Additionally, note that we have to define our model in such a way that CVXPY recognizes it as a geometric program."
   ]
  },
  {
   "cell_type": "code",
   "execution_count": 11,
   "metadata": {
    "id": "I671sGfEISgN"
   },
   "outputs": [],
   "source": [
    "x = cp.Variable(n, pos=True)\n",
    "y = cp.Variable(m, pos=True)\n",
    "t = cp.Variable((n,m), pos=True)"
   ]
  },
  {
   "cell_type": "code",
   "execution_count": 12,
   "metadata": {},
   "outputs": [
    {
     "data": {
      "text/plain": [
       "47.58672623785942"
      ]
     },
     "execution_count": 12,
     "metadata": {},
     "output_type": "execute_result"
    }
   ],
   "source": [
    "objective = cp.Minimize(cp.sum(t))\n",
    "constraint = []\n",
    "for i in range(n):\n",
    "    for j in range(m):\n",
    "        constraint += [A[i,j]/(t[i,j]*x[i]*y[j])<=1]\n",
    "        constraint += [x[i]*y[j]/(t[i,j]*A[i,j])<=1]\n",
    "\n",
    "# Costruisci il problema\n",
    "problem = cp.Problem(objective, constraint)\n",
    "\n",
    "# Risolvi specificando che è un Geometric Program\n",
    "problem.solve(gp=True)\n"
   ]
  },
  {
   "cell_type": "code",
   "execution_count": 19,
   "metadata": {},
   "outputs": [
    {
     "name": "stdout",
     "output_type": "stream",
     "text": [
      "[[0.80500292 0.80794079 0.51532556 0.28580138 0.0539307 ]\n",
      " [0.38336888 0.40847321 0.04527519 0.04875771 0.99917612]\n",
      " [0.65236911 0.2345102  0.43494755 0.97418619 0.89767761]\n",
      " [0.84423104 0.39240466 0.49302302 0.67668935 0.06080271]]\n",
      "\n",
      "[[0.62560947 0.39059253 0.26677324 0.28580156 0.24600307]\n",
      " [0.38645746 0.24128055 0.16479371 0.17654807 0.15196337]\n",
      " [1.01999481 0.63682276 0.43494756 0.46597138 0.40108385]\n",
      " [0.65733677 0.41040112 0.28030243 0.30029577 0.25847893]]\n",
      "\n",
      "[[-0.179 -0.417 -0.249  0.     0.192]\n",
      " [ 0.003 -0.167  0.12   0.128 -0.847]\n",
      " [ 0.368  0.402  0.    -0.508 -0.497]\n",
      " [-0.187  0.018 -0.213 -0.376  0.198]]\n",
      "1\n"
     ]
    },
    {
     "data": {
      "image/png": "[encoded data removed]",
      "text/plain": [
       "<Figure size 1500x400 with 3 Axes>"
      ]
     },
     "metadata": {},
     "output_type": "display_data"
    }
   ],
   "source": [
    "import matplotlib.pyplot as plt\n",
    "\n",
    "# Ricostruisci la matrice rank-1 B\n",
    "B = np.outer(x.value, y.value)\n",
    "print(A)\n",
    "print()\n",
    "print(B)\n",
    "print()\n",
    "print(np.round(B - A, 3))\n",
    "print(np.linalg.matrix_rank(B))\n",
    "\n",
    "fig, axs = plt.subplots(1, 3, figsize=(15, 4))\n",
    "\n",
    "# A originale\n",
    "axs[0].imshow(A, cmap='viridis')\n",
    "axs[0].set_title(\"Matrice A\")\n",
    "\n",
    "# B ricostruita\n",
    "axs[1].imshow(B, cmap='viridis')\n",
    "axs[1].set_title(\"Approssimazione rank-1: B = x yᵗ\")\n",
    "\n",
    "# Errore relativo per elemento\n",
    "axs[2].imshow(np.abs(B - A) / A, cmap='magma')\n",
    "axs[2].set_title(\"Errore relativo |B - A| / A\")\n",
    "\n",
    "plt.tight_layout()\n",
    "plt.show()\n"
   ]
  }
 ],
 "metadata": {
  "colab": {
   "collapsed_sections": [],
   "name": "Rank_One_Approximation.ipynb",
   "provenance": []
  },
  "kernelspec": {
   "display_name": "base",
   "language": "python",
   "name": "python3"
  },
  "language_info": {
   "codemirror_mode": {
    "name": "ipython",
    "version": 3
   },
   "file_extension": ".py",
   "mimetype": "text/x-python",
   "name": "python",
   "nbconvert_exporter": "python",
   "pygments_lexer": "ipython3",
   "version": "3.11.4"
  }
 },
 "nbformat": 4,
 "nbformat_minor": 1
}
